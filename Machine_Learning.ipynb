{
 "cells": [
  {
   "cell_type": "markdown",
   "metadata": {},
   "source": [
    "# Gradient Descent\n",
    "\n",
    "\n",
    "## Cost Function\n",
    "The cost function can be written as follows:\n",
    "\n",
    "\\begin{align}\n",
    "J(\\theta_0, \\theta_1) = \\frac1{2m}\\  \\sum_{k=1}^m ( h_\\theta(x_i) - y_i )^2\n",
    "\\end{align}"
   ]
  },
  {
   "cell_type": "markdown",
   "metadata": {},
   "source": [
    "## Gradient descent\n",
    "\n",
    "Repeat until convergence\n",
    "\n",
    "\\begin{align}\n",
    "\\theta_j := \\theta_j - \\alpha \\frac{\\partial}{\\partial \\theta_j} J(\\theta_0, \\theta_1)\n",
    "\\end{align}"
   ]
  },
  {
   "cell_type": "markdown",
   "metadata": {},
   "source": [
    "Will become:  \n",
    "\n",
    "\\begin{align}\n",
    "\\theta_0 := \\theta_0 - \\alpha \\frac1m \\sum_{k=1}^m ( h_\\theta(x_i) - y_i )  \\\\\n",
    "\\theta_1 := \\theta_1 - \\alpha \\frac1m \\sum_{k=1}^m (( h_\\theta(x_i) - y_i ) x_i)\n",
    "\\end{align}"
   ]
  },
  {
   "cell_type": "code",
   "execution_count": null,
   "metadata": {},
   "outputs": [],
   "source": []
  }
 ],
 "metadata": {
  "kernelspec": {
   "display_name": "Python 3",
   "language": "python",
   "name": "python3"
  },
  "language_info": {
   "codemirror_mode": {
    "name": "ipython",
    "version": 3
   },
   "file_extension": ".py",
   "mimetype": "text/x-python",
   "name": "python",
   "nbconvert_exporter": "python",
   "pygments_lexer": "ipython3",
   "version": "3.6.8"
  }
 },
 "nbformat": 4,
 "nbformat_minor": 2
}
