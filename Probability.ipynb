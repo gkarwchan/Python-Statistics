{
 "cells": [
  {
   "cell_type": "markdown",
   "metadata": {},
   "source": [
    "# Probability Theory:\n",
    "\n",
    "Probability theory is a field in mathematics that study the caluclation of probability of occuring of events.  \n",
    "\n",
    "Example, the probability of tossing a coin and get Head is 50%.  \n",
    "\n",
    "## Simulate tossing a coin using Python:  \n",
    "\n",
    "Let us simulate tossing a coin 1000 times and calculate how much Head we get, and repeat that exercise 10 times.\n",
    "\n",
    "### Numpy and random genertion:\n",
    "\n",
    "Real random numbers are difficult to produce, so in practice, we use pseudo-random numbers. Pseudo-random numbers are sufficiently random for most intents and purposes, except for some very exceptional instances, such as very accurate simulations. \n",
    "\n",
    "Numpy random number generation is based on the [Mersenne Twister algorithm](https://en.wikipedia.org/wiki/Mersenne_twister)."
   ]
  },
  {
   "cell_type": "code",
   "execution_count": 22,
   "metadata": {},
   "outputs": [],
   "source": [
    "import numpy as np\n",
    "def generate_random_tosses(times, repeat):\n",
    "    random_array = np.random.rand(times, repeat) # this will generate random of float between 0 and 1\n",
    "    # to simulate tossing coin we convert any greater than 0.5 to +1 and anything else to -1\n",
    "    coin_tosses = (random_array > 0.5) * 2 - 1\n",
    "    head_counts = np.sum(coin_tosses, axis = 0) # find the sum where Head = (+1) and Tail = (-1)\n",
    "    return head_counts"
   ]
  },
  {
   "cell_type": "code",
   "execution_count": 28,
   "metadata": {},
   "outputs": [
    {
     "name": "stdout",
     "output_type": "stream",
     "text": [
      "results:  [  8  22 -26  36 -54 -30  -6 -30  14 -20]\n"
     ]
    },
    {
     "data": {
      "image/png": "[encoded data removed]",
      "text/plain": [
       "<Figure size 720x288 with 1 Axes>"
      ]
     },
     "metadata": {
      "needs_background": "light"
     },
     "output_type": "display_data"
    }
   ],
   "source": [
    "import matplotlib.pyplot as plt\n",
    "times = 1000\n",
    "repeat = 10\n",
    "\n",
    "tosses_results = generate_random_tosses(times, repeat)\n",
    "print('results: ', tosses_results)\n",
    "\n",
    "plt.figure(figsize=[10,4])\n",
    "plt.hist(tosses_results);\n",
    "plt.xlim([-times,times])\n",
    "plt.xlabel(\"sum\")\n",
    "plt.ylabel(\"count\")\n",
    "plt.title(\"Histogram of coin flip sum when flipping a fair coin %d times\"%times)\n",
    "plt.grid()"
   ]
  },
  {
   "cell_type": "code",
   "execution_count": null,
   "metadata": {},
   "outputs": [],
   "source": []
  }
 ],
 "metadata": {
  "kernelspec": {
   "display_name": "Python 3",
   "language": "python",
   "name": "python3"
  },
  "language_info": {
   "codemirror_mode": {
    "name": "ipython",
    "version": 3
   },
   "file_extension": ".py",
   "mimetype": "text/x-python",
   "name": "python",
   "nbconvert_exporter": "python",
   "pygments_lexer": "ipython3",
   "version": "3.7.0"
  }
 },
 "nbformat": 4,
 "nbformat_minor": 2
}
