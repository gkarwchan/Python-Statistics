{
 "cells": [
  {
   "cell_type": "markdown",
   "metadata": {},
   "source": [
    "# Linear Algebra In Supervised Learning:  \n",
    "\n",
    "Linear Algebra is the basis of building models in machine learning.  \n",
    "A very simple example:  \n",
    "\n",
    "Predict House Price from its size:\n",
    "\n",
    "Create a math function called **Hypothesis** to predict the price of the house.\n",
    "\n",
    "\\begin{align}\n",
    "\\Large\n",
    "y^i = h_\\theta(x^i) & = \\theta_0 + \\theta_1 x^i \\\\\n",
    "\\end{align}\n",
    "\n",
    "\n",
    "Linear algebra is using as the basis of any math in any machine learning algorithm.  \n",
    "\n",
    "The above formula for one input variable.  \n",
    "But what if we have multi input variables?  \n",
    "\n",
    "\\begin{align}\n",
    "\\Large\n",
    "y^i = h_\\theta(x_1^i, x_2^i, ...) & = \\theta_0 + \\theta_1 x_1^i + \\theta_2 x_2^i + ... \\\\\n",
    "\\end{align}\n"
   ]
  },
  {
   "cell_type": "markdown",
   "metadata": {},
   "source": [
    "## Practical Example: Use Matrix calculation in Supervised Learning\n",
    "\n",
    "\n",
    "![Matrix calc](img/LA-26.png)\n"
   ]
  },
  {
   "cell_type": "markdown",
   "metadata": {},
   "source": [
    "To Find the Value of X:\n",
    "\n",
    "\\begin{align}\n",
    "\\Large\n",
    "X = (A^T*A)^{-1} * X^T*Z\n",
    "\\end{align}\n",
    "\n",
    "we call inverse"
   ]
  },
  {
   "cell_type": "markdown",
   "metadata": {},
   "source": [
    "### Iris dataset in Scikit-learn module:\n",
    "scikit-learn comes with a few standard datasets, and iris is one of them.  \n",
    "It is formatted in a way to be used by machine learning.   "
   ]
  },
  {
   "cell_type": "code",
   "execution_count": 3,
   "metadata": {},
   "outputs": [
    {
     "name": "stdout",
     "output_type": "stream",
     "text": [
      "type of iris:  <class 'sklearn.utils.Bunch'>\n",
      "dict keys:  dict_keys(['data', 'target', 'target_names', 'DESCR', 'feature_names', 'filename'])\n",
      "type of iris data:  <class 'numpy.ndarray'>\n",
      "iris column names:  ['sepal length (cm)', 'sepal width (cm)', 'petal length (cm)', 'petal width (cm)']\n"
     ]
    }
   ],
   "source": [
    "from sklearn import datasets\n",
    "iris_sk = datasets.load_iris()\n",
    "print ('type of iris: ', type(iris_sk))\n",
    "print ('dict keys: ' , iris_sk.keys())\n",
    "print ('type of iris data: ', type(iris_sk.data))\n",
    "print ('iris column names: ' , iris_sk.feature_names)\n",
    "# print ('the target: ', iris_sk.target)"
   ]
  },
  {
   "cell_type": "code",
   "execution_count": 2,
   "metadata": {},
   "outputs": [],
   "source": [
    "import numpy as np\n",
    "\n",
    "X = np.asmatrix(iris_sk.data)\n",
    "\n",
    "x = np.transpose(X)\n",
    "\n",
    "T = x.dot(X)\n",
    "\n",
    "inv = np.linalg.inv(T)\n",
    "\n",
    "theta = (inv.dot(X.T)).dot(iris_sk.target)"
   ]
  },
  {
   "cell_type": "code",
   "execution_count": 3,
   "metadata": {},
   "outputs": [
    {
     "data": {
      "text/plain": [
       "matrix([[-0.0844926 , -0.02356211,  0.22487123,  0.59972247]])"
      ]
     },
     "execution_count": 3,
     "metadata": {},
     "output_type": "execute_result"
    }
   ],
   "source": [
    "theta"
   ]
  },
  {
   "cell_type": "markdown",
   "metadata": {},
   "source": [
    "$\\begin{bmatrix}a & b\\\\c & d\\end{bmatrix}$"
   ]
  },
  {
   "cell_type": "code",
   "execution_count": null,
   "metadata": {},
   "outputs": [],
   "source": []
  }
 ],
 "metadata": {
  "kernelspec": {
   "display_name": "Python 3",
   "language": "python",
   "name": "python3"
  },
  "language_info": {
   "codemirror_mode": {
    "name": "ipython",
    "version": 3
   },
   "file_extension": ".py",
   "mimetype": "text/x-python",
   "name": "python",
   "nbconvert_exporter": "python",
   "pygments_lexer": "ipython3",
   "version": "3.6.8"
  }
 },
 "nbformat": 4,
 "nbformat_minor": 2
}
