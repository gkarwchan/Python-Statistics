{
 "cells": [
  {
   "cell_type": "code",
   "execution_count": 1,
   "metadata": {},
   "outputs": [],
   "source": [
    "import numpy as np\n",
    "import pandas as pd\n",
    "import matplotlib.pyplot as plt\n",
    "from pandas.plotting import lag_plot\n",
    "from pandas.plotting import autocorrelation_plot\n",
    "\n",
    "from datetime import datetime as dt\n",
    "%matplotlib inline\n",
    "to_float = lambda x: float(x.strip() or np.nan)\n",
    "to_date = lambda x: dt.strptime(x, \"%Y%m%d\").toordinal()\n",
    "\n",
    "dates, avg_temp, min_temp, max_temp = np.loadtxt('./data/KNMI.txt', delimiter=',', usecols=(1,11,12,14),\n",
    "          converters={1: to_date, 11: to_float, 12: to_float, 14: to_float}, unpack=True,\n",
    "                                                encoding='latin1', skiprows=1)"
   ]
  },
  {
   "cell_type": "code",
   "execution_count": 2,
   "metadata": {},
   "outputs": [
    {
     "data": {
      "text/plain": [
       "<matplotlib.axes._subplots.AxesSubplot at 0x10a5c6438>"
      ]
     },
     "execution_count": 2,
     "metadata": {},
     "output_type": "execute_result"
    },
    {
     "data": {
      "image/png": "[encoded data removed]",
      "text/plain": [
       "<Figure size 432x288 with 1 Axes>"
      ]
     },
     "metadata": {
      "needs_background": "light"
     },
     "output_type": "display_data"
    }
   ],
   "source": [
    "dtidx = pd.DatetimeIndex([dt.fromordinal(int(date)) for date in dates])\n",
    "data = pd.Series(avg_temp * .1 , index=dtidx)\n",
    "fig = plt.figure()\n",
    "fig.add_subplot(211)\n",
    "lag_plot(data)\n",
    "\n",
    "# plt.figure()\n",
    "# autocorrelation_plot(data)\n",
    "# plt.figure()\n",
    "# resampled=data.resample('A')\n",
    "# resampled.plot()"
   ]
  }
 ],
 "metadata": {
  "kernelspec": {
   "display_name": "Python 3",
   "language": "python",
   "name": "python3"
  },
  "language_info": {
   "codemirror_mode": {
    "name": "ipython",
    "version": 3
   },
   "file_extension": ".py",
   "mimetype": "text/x-python",
   "name": "python",
   "nbconvert_exporter": "python",
   "pygments_lexer": "ipython3",
   "version": "3.6.8"
  }
 },
 "nbformat": 4,
 "nbformat_minor": 2
}
