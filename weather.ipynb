{
 "cells": [
  {
   "cell_type": "code",
   "execution_count": 19,
   "metadata": {},
   "outputs": [],
   "source": [
    "import numpy as np\n",
    "from datetime import datetime as dt"
   ]
  },
  {
   "cell_type": "code",
   "execution_count": 21,
   "metadata": {},
   "outputs": [],
   "source": [
    "to_float = lambda x: float(x.strip() or np.nan)\n",
    "to_date = lambda x: dt.strptime(x, \"%Y%m%d\").toordinal()\n",
    "dates, avg_temp, min_temp, max_temp = np.loadtxt('./data/KNMI.txt', delimiter=',', usecols=(1, 11, 12,14), unpack=True, \n",
    "                                converters={1: to_date, 11: to_float, 12: to_float, 14: to_float}, \n",
    "                                                 encoding='latin1', skiprows=1) * .1"
   ]
  },
  {
   "cell_type": "code",
   "execution_count": 25,
   "metadata": {},
   "outputs": [
    {
     "name": "stdout",
     "output_type": "stream",
     "text": [
      "min of min temp:  -19.700000000000003\n",
      "max of max temp:  36.5\n"
     ]
    }
   ],
   "source": [
    "print ('min of min temp: ', np.nanmin(min_temp))\n",
    "print ('max of max temp: ', np.nanmax(max_temp))"
   ]
  },
  {
   "cell_type": "code",
   "execution_count": 32,
   "metadata": {},
   "outputs": [
    {
     "name": "stdout",
     "output_type": "stream",
     "text": [
      "days where min < 0 8.615661720559224\n",
      "days where max < 0 1.3723303885410412\n"
     ]
    }
   ],
   "source": [
    "print ('days where min < 0', 100 * len(min_temp[min_temp <\n",
    "0])/float(len(min_temp)))\n",
    "print ('days where max < 0', 100 * len(max_temp[max_temp <\n",
    "0])/float(len(max_temp)))"
   ]
  },
  {
   "cell_type": "code",
   "execution_count": 33,
   "metadata": {},
   "outputs": [
    {
     "name": "stdout",
     "output_type": "stream",
     "text": [
      "min range:  0.4\n",
      "max range:  22.0\n"
     ]
    }
   ],
   "source": [
    "ranges = max_temp - min_temp\n",
    "print ('min range: ', np.nanmin(ranges))\n",
    "print ('max range: ', np.nanmax(ranges))"
   ]
  },
  {
   "cell_type": "code",
   "execution_count": 35,
   "metadata": {},
   "outputs": [
    {
     "data": {
      "text/plain": [
       "6.649805368709518"
      ]
     },
     "execution_count": 35,
     "metadata": {},
     "output_type": "execute_result"
    }
   ],
   "source": [
    "np.nanmean(ranges)"
   ]
  },
  {
   "cell_type": "code",
   "execution_count": 36,
   "metadata": {},
   "outputs": [
    {
     "data": {
      "text/plain": [
       "6.649805368709518"
      ]
     },
     "execution_count": 36,
     "metadata": {},
     "output_type": "execute_result"
    }
   ],
   "source": [
    "r = ma.array(ranges, mask = np.isnan(ranges))\n",
    "np.mean(r)"
   ]
  },
  {
   "cell_type": "code",
   "execution_count": 37,
   "metadata": {},
   "outputs": [
    {
     "data": {
      "text/plain": [
       "6.649805368709518"
      ]
     },
     "execution_count": 37,
     "metadata": {},
     "output_type": "execute_result"
    }
   ],
   "source": [
    "r.mean()"
   ]
  },
  {
   "cell_type": "code",
   "execution_count": null,
   "metadata": {},
   "outputs": [],
   "source": []
  }
 ],
 "metadata": {
  "kernelspec": {
   "display_name": "Python 3",
   "language": "python",
   "name": "python3"
  },
  "language_info": {
   "codemirror_mode": {
    "name": "ipython",
    "version": 3
   },
   "file_extension": ".py",
   "mimetype": "text/x-python",
   "name": "python",
   "nbconvert_exporter": "python",
   "pygments_lexer": "ipython3",
   "version": "3.6.8"
  }
 },
 "nbformat": 4,
 "nbformat_minor": 2
}
